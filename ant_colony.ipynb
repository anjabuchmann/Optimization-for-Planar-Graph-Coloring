{
 "cells": [
  {
   "cell_type": "markdown",
   "metadata": {},
   "source": [
    "### Ant Colony Optimization for Graph Coloring"
   ]
  },
  {
   "cell_type": "code",
   "execution_count": 1,
   "metadata": {},
   "outputs": [],
   "source": [
    "import numpy as np\n",
    "import pandas as pd\n",
    "import time \n",
    "import matplotlib.pyplot as plt\n",
    "import aco as ants "
   ]
  },
  {
   "cell_type": "code",
   "execution_count": 2,
   "metadata": {},
   "outputs": [],
   "source": [
    "graphs = [i for i in range(10, 100, 10)] + [i for i in range(100, 250, 25)] + [i for i in range(250, 1001, 50)]"
   ]
  },
  {
   "cell_type": "code",
   "execution_count": 3,
   "metadata": {},
   "outputs": [],
   "source": [
    "def write_to_csv(filename: str, data: float, n: int): \n",
    "    ''' \n",
    "    writes the results to a csv file \n",
    "    '''\n",
    "\n",
    "    df = pd.read_csv(filename)\n",
    "    df.set_index('Graph', inplace=True)\n",
    "    index = 'graph_'+str(n)\n",
    "    df.loc[index, 'Ant Colony'] = np.round(data, 5)\n",
    "    df.to_csv(filename, index=True)\n",
    "\n",
    "    return "
   ]
  },
  {
   "cell_type": "code",
   "execution_count": null,
   "metadata": {},
   "outputs": [],
   "source": [
    "for n in graphs: \n",
    "\n",
    "    path = './generated/graph_'+str(n)+'.txt'\n",
    "\n",
    "    start = time.time()\n",
    "\n",
    "    for i in range(10): \n",
    "        ants.run(path)\n",
    "\n",
    "    end = time.time()\n",
    "\n",
    "    print(\"Colors for graph_\"+str(n)+\" = 4\")\n",
    "\n",
    "    # determine runtime \n",
    "    runtime = (end-start)/10\n",
    "\n",
    "    write_to_csv('./results/results_runtime.csv', runtime, n)"
   ]
  }
 ],
 "metadata": {
  "kernelspec": {
   "display_name": "base",
   "language": "python",
   "name": "python3"
  },
  "language_info": {
   "codemirror_mode": {
    "name": "ipython",
    "version": 3
   },
   "file_extension": ".py",
   "mimetype": "text/x-python",
   "name": "python",
   "nbconvert_exporter": "python",
   "pygments_lexer": "ipython3",
   "version": "3.12.2"
  }
 },
 "nbformat": 4,
 "nbformat_minor": 2
}
