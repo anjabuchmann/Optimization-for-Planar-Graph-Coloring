{
 "cells": [
  {
   "cell_type": "markdown",
   "metadata": {},
   "source": [
    "### Algorithm for Graph Coloring"
   ]
  },
  {
   "cell_type": "code",
   "execution_count": 1,
   "metadata": {},
   "outputs": [],
   "source": [
    "import numpy as np\n",
    "import pandas as pd\n",
    "import time \n",
    "import networkx as nx\n",
    "import matplotlib.pyplot as plt\n",
    "import gcol"
   ]
  },
  {
   "cell_type": "code",
   "execution_count": 2,
   "metadata": {},
   "outputs": [],
   "source": [
    "graphs = [25] + [i for i in range(50, 1000, 50)] + [i for i in range(1000, 10001, 500)]"
   ]
  },
  {
   "cell_type": "code",
   "execution_count": 3,
   "metadata": {},
   "outputs": [],
   "source": [
    "def read_data_edge_list(filename): \n",
    "    ''' \n",
    "    reads data from edge list input file and returns nx.Graph object \n",
    "    '''\n",
    "\n",
    "    file = open(filename, 'r')\n",
    "    content = file.readlines()\n",
    "\n",
    "    n = int(content[0]) # number of vertices \n",
    "    m = int(content[1]) # number of edges \n",
    "\n",
    "    G = nx.Graph()\n",
    "\n",
    "    # range(2, 2*m+2) for .pg files \n",
    "    # range(2, m+2) for .txt files\n",
    "    for l in range(2, m+2): \n",
    "        line = content[l]\n",
    "        line_split = line.split(' ')\n",
    "        u = int(line_split[0])\n",
    "        v = int(line_split[1])\n",
    "        G.add_node(u)\n",
    "        G.add_node(v)\n",
    "        G.add_edge(u, v)\n",
    "    return G"
   ]
  },
  {
   "cell_type": "code",
   "execution_count": 4,
   "metadata": {},
   "outputs": [],
   "source": [
    "def algorithm(G: nx.graph, n: int): \n",
    "    c = gcol.node_k_coloring(G, 4, opt_alg=1)\n",
    "    c_num = max(c.values()) + 1\n",
    "    return c_num"
   ]
  },
  {
   "cell_type": "code",
   "execution_count": 5,
   "metadata": {},
   "outputs": [],
   "source": [
    "def write_to_csv(filename: str, data: float, n: int): \n",
    "    ''' \n",
    "    writes the results to a csv file \n",
    "    '''\n",
    "\n",
    "    df = pd.read_csv(filename)\n",
    "    df.set_index('Graph', inplace=True)\n",
    "    index = 'graph_'+str(n)\n",
    "    df.loc[index, 'Algorithm'] = np.round(data, 5)\n",
    "    df.to_csv(filename, index=True)\n",
    "\n",
    "    return "
   ]
  },
  {
   "cell_type": "code",
   "execution_count": null,
   "metadata": {},
   "outputs": [],
   "source": [
    "# visualization of first graph \n",
    "G = read_data_edge_list('./generated/graph_25.txt')\n",
    "\n",
    "c = gcol.node_k_coloring(G, 4, opt_alg=1)\n",
    "nx.draw_networkx(G,\n",
    "                 pos=gcol.coloring_layout(G, c),\n",
    "                 node_color=gcol.get_node_colors(G, c))\n",
    "plt.show()"
   ]
  },
  {
   "cell_type": "code",
   "execution_count": null,
   "metadata": {},
   "outputs": [],
   "source": [
    "for n in graphs: \n",
    "\n",
    "    G = read_data_edge_list('./generated/graph_'+str(n)+'.txt')\n",
    "\n",
    "    start = time.time()\n",
    "\n",
    "    for i in range(5): \n",
    "        c_num = algorithm(G, n)\n",
    "\n",
    "    end = time.time()\n",
    "\n",
    "    print(\"Colors for graph_\"+str(n)+\" =\", c_num)\n",
    "\n",
    "    # determine runtime \n",
    "    runtime = (end-start)/5 \n",
    "\n",
    "    write_to_csv('./results/results_runtime.csv', runtime, n)"
   ]
  }
 ],
 "metadata": {
  "kernelspec": {
   "display_name": "base",
   "language": "python",
   "name": "python3"
  },
  "language_info": {
   "codemirror_mode": {
    "name": "ipython",
    "version": 3
   },
   "file_extension": ".py",
   "mimetype": "text/x-python",
   "name": "python",
   "nbconvert_exporter": "python",
   "pygments_lexer": "ipython3",
   "version": "3.12.2"
  }
 },
 "nbformat": 4,
 "nbformat_minor": 2
}
