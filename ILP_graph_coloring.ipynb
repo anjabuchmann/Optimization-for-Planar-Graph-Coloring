{
 "cells": [
  {
   "cell_type": "markdown",
   "metadata": {},
   "source": [
    "### Integer Linear Program for Graph Coloring"
   ]
  },
  {
   "cell_type": "code",
   "execution_count": 1,
   "metadata": {},
   "outputs": [],
   "source": [
    "import numpy as np\n",
    "import gurobipy as gp\n",
    "from tqdm import tqdm\n",
    "import pandas as pd\n",
    "import time "
   ]
  },
  {
   "cell_type": "code",
   "execution_count": 2,
   "metadata": {},
   "outputs": [],
   "source": [
    "graphs = [25] + [i for i in range(50, 1000, 50)] + [i for i in range(1000, 10001, 500)]\n",
    "c = 4 # max number of used colors "
   ]
  },
  {
   "cell_type": "code",
   "execution_count": 3,
   "metadata": {},
   "outputs": [],
   "source": [
    "def read_data_edge_list(filename): \n",
    "    ''' \n",
    "    reads data from edge list input file and returns adjacency matrix \n",
    "    '''\n",
    "\n",
    "    file = open(filename, 'r')\n",
    "    content = file.readlines()\n",
    "\n",
    "    n = int(content[0]) # number of vertices \n",
    "    m = int(content[1]) # number of edges \n",
    "\n",
    "    adj_mat = np.zeros((n,n)) # adjacency matrix \n",
    "\n",
    "    # range(2, 2*m+2) for .pg files \n",
    "    # range(2, m+2) for .txt files\n",
    "    for l in range(2, m+2): \n",
    "        line = content[l]\n",
    "        line_split = line.split(' ')\n",
    "        u = int(line_split[0])\n",
    "        v = int(line_split[1])\n",
    "        adj_mat[u,v] = 1\n",
    "\n",
    "    return adj_mat"
   ]
  },
  {
   "cell_type": "code",
   "execution_count": 4,
   "metadata": {},
   "outputs": [],
   "source": [
    "def create_model(edges: np.array, n: int, c: int): \n",
    "    ''' \n",
    "    creates an ILP from adjacency matrix \n",
    "    '''\n",
    "\n",
    "    # create new model\n",
    "    model = gp.Model(\"GraphColoring\")\n",
    "    model.setParam('OutputFlag', 0)\n",
    "\n",
    "    # add the decision variables \n",
    "    x = {}\n",
    "    w = {}\n",
    "\n",
    "    for j in range(c): \n",
    "        for i in range(n): \n",
    "            # x_ij = 1 <=> node i is assigned color j\n",
    "            x[i, j] = model.addVar(vtype=gp.GRB.BINARY, name=f\"x[{i},{j}]\")\n",
    "        # w_j = 1 <=> at least one node is assigend color j \n",
    "        w[j] = model.addVar(vtype=gp.GRB.BINARY, name=\"w[%d]\"%j)\n",
    "\n",
    "    model.update()\n",
    "\n",
    "    # set objective function: minimize sum of w_i\n",
    "    w_vars = [v for v in model.getVars() if 'w' in v.varName]\n",
    "    model.setObjective(gp.LinExpr(np.ones(c), w_vars), gp.GRB.MINIMIZE)\n",
    "\n",
    "    # ensure that every node is assigned exactly one color\n",
    "    model.addConstrs((np.sum([x[i, j] for j in range(c)]) == 1 for i in range(n)), name=f\"constr_cx[{i},{j}]\") \n",
    "\n",
    "    # ensure that adjacent nodes have different colors \n",
    "    for k in range(n): \n",
    "        for l in range(k, n): \n",
    "            if edges[k, l]: \n",
    "                model.addConstrs((x[k, j] + x[l, j] <= 1 for j in range(c)), name=f\"constr_x[{k}]x[{l}]\")\n",
    "\n",
    "    # set w_j \n",
    "    model.addConstrs((x[i, j] <= w[j] for j in range(c) for i in range(n)), name=f\"constr_xw[{i},{j}]\") \n",
    "\n",
    "    model.update()\n",
    "\n",
    "    return model "
   ]
  },
  {
   "cell_type": "code",
   "execution_count": 5,
   "metadata": {},
   "outputs": [],
   "source": [
    "def write_to_csv(filename: str, data: float, n: int): \n",
    "    ''' \n",
    "    writes the results to a csv file \n",
    "    '''\n",
    "\n",
    "    df = pd.read_csv(filename)\n",
    "    df.set_index('Graph', inplace=True)\n",
    "    index = 'graph_'+str(n)\n",
    "    df.loc[index, 'ILP'] = np.round(data, 5)\n",
    "    df.to_csv(filename, index=True)\n",
    "\n",
    "    return "
   ]
  },
  {
   "cell_type": "code",
   "execution_count": null,
   "metadata": {},
   "outputs": [],
   "source": [
    "for n in graphs: \n",
    "\n",
    "    edges = read_data_edge_list('./generated/graph_'+str(n)+'.txt')\n",
    "    c_min = 10\n",
    "\n",
    "    start = time.time()\n",
    "\n",
    "    model = create_model(edges, n, c)\n",
    "\n",
    "    for i in range(5): \n",
    "        # optimize the model\n",
    "        model.optimize()\n",
    "        c_num = model.objVal\n",
    "        c_min = np.min([c_min, c_num])\n",
    "\n",
    "    end = time.time()\n",
    "\n",
    "    print(\"Colors for graph_\"+str(n)+\"=\", c_min)\n",
    "\n",
    "    # determine runtime \n",
    "    runtime = (end-start)/5 \n",
    "\n",
    "    write_to_csv('./results/results_runtime.csv', runtime, n)\n",
    "    write_to_csv('./results/results_coloring.csv', c_min, n)"
   ]
  }
 ],
 "metadata": {
  "kernelspec": {
   "display_name": "base",
   "language": "python",
   "name": "python3"
  },
  "language_info": {
   "codemirror_mode": {
    "name": "ipython",
    "version": 3
   },
   "file_extension": ".py",
   "mimetype": "text/x-python",
   "name": "python",
   "nbconvert_exporter": "python",
   "pygments_lexer": "ipython3",
   "version": "3.12.2"
  }
 },
 "nbformat": 4,
 "nbformat_minor": 2
}
